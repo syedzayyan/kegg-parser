{
 "cells": [
  {
   "cell_type": "code",
   "execution_count": 1,
   "metadata": {},
   "outputs": [],
   "source": [
    "import sys\n",
    "sys.path.insert(0, \"../src/\")\n",
    "from KEGGX import *"
   ]
  },
  {
   "cell_type": "code",
   "execution_count": 2,
   "metadata": {},
   "outputs": [],
   "source": [
    "pathway = KEGGX(\"../data/human_KGML/hsa05160.xml\")\n",
    "# pathway = KEGGX(\"../data/human_KGML/hsa00010.xml\")"
   ]
  },
  {
   "cell_type": "code",
   "execution_count": 3,
   "metadata": {
    "scrolled": false
   },
   "outputs": [
    {
     "data": {
      "text/plain": [
       "<networkx.classes.digraph.DiGraph at 0x114075748>"
      ]
     },
     "execution_count": 3,
     "metadata": {},
     "output_type": "execute_result"
    }
   ],
   "source": [
    "pathway.output_KGML_as_graphml('./test_output/hsa05160.graphml')"
   ]
  },
  {
   "cell_type": "code",
   "execution_count": 4,
   "metadata": {},
   "outputs": [],
   "source": [
    "graph = pathway.output_KGML_as_graphml('./test_output/hsa05160_detailed.graphml', display=True)"
   ]
  },
  {
   "cell_type": "code",
   "execution_count": 5,
   "metadata": {},
   "outputs": [
    {
     "data": {
      "text/html": [
       "<div>\n",
       "<style scoped>\n",
       "    .dataframe tbody tr th:only-of-type {\n",
       "        vertical-align: middle;\n",
       "    }\n",
       "\n",
       "    .dataframe tbody tr th {\n",
       "        vertical-align: top;\n",
       "    }\n",
       "\n",
       "    .dataframe thead th {\n",
       "        text-align: right;\n",
       "    }\n",
       "</style>\n",
       "<table border=\"1\" class=\"dataframe\">\n",
       "  <thead>\n",
       "    <tr style=\"text-align: right;\">\n",
       "      <th></th>\n",
       "      <th>name</th>\n",
       "      <th>aliases</th>\n",
       "      <th>type</th>\n",
       "      <th>x</th>\n",
       "      <th>y</th>\n",
       "      <th>height</th>\n",
       "      <th>width</th>\n",
       "      <th>shape</th>\n",
       "      <th>bgcolor</th>\n",
       "      <th>fgcolor</th>\n",
       "    </tr>\n",
       "    <tr>\n",
       "      <th>id</th>\n",
       "      <th></th>\n",
       "      <th></th>\n",
       "      <th></th>\n",
       "      <th></th>\n",
       "      <th></th>\n",
       "      <th></th>\n",
       "      <th></th>\n",
       "      <th></th>\n",
       "      <th></th>\n",
       "      <th></th>\n",
       "    </tr>\n",
       "  </thead>\n",
       "  <tbody>\n",
       "    <tr>\n",
       "      <th>2</th>\n",
       "      <td>DDX58</td>\n",
       "      <td>DDX58, RIG-I, RIGI, RLR-1, SGMRT2</td>\n",
       "      <td>gene</td>\n",
       "      <td>359</td>\n",
       "      <td>394</td>\n",
       "      <td>17</td>\n",
       "      <td>46</td>\n",
       "      <td>rectangle</td>\n",
       "      <td>#BFFFBF</td>\n",
       "      <td>#000000</td>\n",
       "    </tr>\n",
       "    <tr>\n",
       "      <th>3</th>\n",
       "      <td>MAVS</td>\n",
       "      <td>MAVS, CARDIF, IPS-1, IPS1, VISA</td>\n",
       "      <td>gene</td>\n",
       "      <td>438</td>\n",
       "      <td>394</td>\n",
       "      <td>17</td>\n",
       "      <td>46</td>\n",
       "      <td>rectangle</td>\n",
       "      <td>#BFFFBF</td>\n",
       "      <td>#000000</td>\n",
       "    </tr>\n",
       "    <tr>\n",
       "      <th>4</th>\n",
       "      <td>TRAF3</td>\n",
       "      <td>TRAF3, CAP-1, CAP1, CD40bp, CRAF1, IIAE5, LAP1...</td>\n",
       "      <td>gene</td>\n",
       "      <td>517</td>\n",
       "      <td>394</td>\n",
       "      <td>17</td>\n",
       "      <td>46</td>\n",
       "      <td>rectangle</td>\n",
       "      <td>#BFFFBF</td>\n",
       "      <td>#000000</td>\n",
       "    </tr>\n",
       "    <tr>\n",
       "      <th>5</th>\n",
       "      <td>TBK1</td>\n",
       "      <td>TBK1, FTDALS4, NAK, T2K</td>\n",
       "      <td>gene</td>\n",
       "      <td>596</td>\n",
       "      <td>386</td>\n",
       "      <td>17</td>\n",
       "      <td>46</td>\n",
       "      <td>rectangle</td>\n",
       "      <td>#BFFFBF</td>\n",
       "      <td>#000000</td>\n",
       "    </tr>\n",
       "    <tr>\n",
       "      <th>6</th>\n",
       "      <td>IKBKE</td>\n",
       "      <td>IKBKE, IKK-E, IKK-i, IKKE, IKKI</td>\n",
       "      <td>gene</td>\n",
       "      <td>596</td>\n",
       "      <td>403</td>\n",
       "      <td>17</td>\n",
       "      <td>46</td>\n",
       "      <td>rectangle</td>\n",
       "      <td>#BFFFBF</td>\n",
       "      <td>#000000</td>\n",
       "    </tr>\n",
       "  </tbody>\n",
       "</table>\n",
       "</div>"
      ],
      "text/plain": [
       "     name                                            aliases  type    x    y  \\\n",
       "id                                                                             \n",
       "2   DDX58                  DDX58, RIG-I, RIGI, RLR-1, SGMRT2  gene  359  394   \n",
       "3    MAVS                    MAVS, CARDIF, IPS-1, IPS1, VISA  gene  438  394   \n",
       "4   TRAF3  TRAF3, CAP-1, CAP1, CD40bp, CRAF1, IIAE5, LAP1...  gene  517  394   \n",
       "5    TBK1                            TBK1, FTDALS4, NAK, T2K  gene  596  386   \n",
       "6   IKBKE                    IKBKE, IKK-E, IKK-i, IKKE, IKKI  gene  596  403   \n",
       "\n",
       "   height width      shape  bgcolor  fgcolor  \n",
       "id                                            \n",
       "2      17    46  rectangle  #BFFFBF  #000000  \n",
       "3      17    46  rectangle  #BFFFBF  #000000  \n",
       "4      17    46  rectangle  #BFFFBF  #000000  \n",
       "5      17    46  rectangle  #BFFFBF  #000000  \n",
       "6      17    46  rectangle  #BFFFBF  #000000  "
      ]
     },
     "execution_count": 5,
     "metadata": {},
     "output_type": "execute_result"
    }
   ],
   "source": [
    "pathway.node_attributes_df.head()"
   ]
  },
  {
   "cell_type": "code",
   "execution_count": 6,
   "metadata": {},
   "outputs": [
    {
     "data": {
      "text/html": [
       "<div>\n",
       "<style scoped>\n",
       "    .dataframe tbody tr th:only-of-type {\n",
       "        vertical-align: middle;\n",
       "    }\n",
       "\n",
       "    .dataframe tbody tr th {\n",
       "        vertical-align: top;\n",
       "    }\n",
       "\n",
       "    .dataframe thead th {\n",
       "        text-align: right;\n",
       "    }\n",
       "</style>\n",
       "<table border=\"1\" class=\"dataframe\">\n",
       "  <thead>\n",
       "    <tr style=\"text-align: right;\">\n",
       "      <th></th>\n",
       "      <th>source</th>\n",
       "      <th>target</th>\n",
       "      <th>effect</th>\n",
       "      <th>indirect</th>\n",
       "      <th>modification</th>\n",
       "      <th>type</th>\n",
       "    </tr>\n",
       "  </thead>\n",
       "  <tbody>\n",
       "    <tr>\n",
       "      <th>0</th>\n",
       "      <td>4</td>\n",
       "      <td>5</td>\n",
       "      <td>1</td>\n",
       "      <td>1</td>\n",
       "      <td></td>\n",
       "      <td>PPrel</td>\n",
       "    </tr>\n",
       "    <tr>\n",
       "      <th>1</th>\n",
       "      <td>4</td>\n",
       "      <td>6</td>\n",
       "      <td>1</td>\n",
       "      <td>1</td>\n",
       "      <td></td>\n",
       "      <td>PPrel</td>\n",
       "    </tr>\n",
       "    <tr>\n",
       "      <th>2</th>\n",
       "      <td>5</td>\n",
       "      <td>7</td>\n",
       "      <td>1</td>\n",
       "      <td>0</td>\n",
       "      <td>+p</td>\n",
       "      <td>PPrel</td>\n",
       "    </tr>\n",
       "    <tr>\n",
       "      <th>3</th>\n",
       "      <td>6</td>\n",
       "      <td>7</td>\n",
       "      <td>1</td>\n",
       "      <td>0</td>\n",
       "      <td>+p</td>\n",
       "      <td>PPrel</td>\n",
       "    </tr>\n",
       "    <tr>\n",
       "      <th>4</th>\n",
       "      <td>3</td>\n",
       "      <td>12</td>\n",
       "      <td>1</td>\n",
       "      <td>1</td>\n",
       "      <td></td>\n",
       "      <td>PPrel</td>\n",
       "    </tr>\n",
       "  </tbody>\n",
       "</table>\n",
       "</div>"
      ],
      "text/plain": [
       "  source target  effect  indirect modification   type\n",
       "0      4      5       1         1               PPrel\n",
       "1      4      6       1         1               PPrel\n",
       "2      5      7       1         0           +p  PPrel\n",
       "3      6      7       1         0           +p  PPrel\n",
       "4      3     12       1         1               PPrel"
      ]
     },
     "execution_count": 6,
     "metadata": {},
     "output_type": "execute_result"
    }
   ],
   "source": [
    "pathway.edge_attributes_df.head()"
   ]
  },
  {
   "cell_type": "code",
   "execution_count": null,
   "metadata": {},
   "outputs": [],
   "source": []
  }
 ],
 "metadata": {
  "kernelspec": {
   "display_name": "Python 3",
   "language": "python",
   "name": "python3"
  },
  "language_info": {
   "codemirror_mode": {
    "name": "ipython",
    "version": 3
   },
   "file_extension": ".py",
   "mimetype": "text/x-python",
   "name": "python",
   "nbconvert_exporter": "python",
   "pygments_lexer": "ipython3",
   "version": "3.6.5"
  }
 },
 "nbformat": 4,
 "nbformat_minor": 2
}
