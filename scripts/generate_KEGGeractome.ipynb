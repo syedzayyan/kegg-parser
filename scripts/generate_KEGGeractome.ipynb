{
 "cells": [
  {
   "cell_type": "code",
   "execution_count": 1,
   "metadata": {},
   "outputs": [],
   "source": [
    "import sys\n",
    "\n",
    "sys.path.insert(0, \"../src/\")\n",
    "from KEGGX import *"
   ]
  },
  {
   "cell_type": "code",
   "execution_count": 2,
   "metadata": {},
   "outputs": [],
   "source": [
    "from glob import glob\n",
    "\n",
    "files = glob('../data/human_KGML/hsa*.xml')"
   ]
  },
  {
   "cell_type": "code",
   "execution_count": null,
   "metadata": {},
   "outputs": [],
   "source": [
    "# For each KGML file, get directed edges as dataframe, the concatenate\n",
    "edgelist_dfs = [KEGGX(file).get_directed_edges_from_KGML(genes_only=True) for file in files]\n",
    "edgelist_df  = pd.concat(edgelist_dfs)\n",
    "edgelist_df  = edgelist_df[['source', 'target', 'effect', 'indirect', 'modification', 'type', 'pathway']]\n",
    "edgelist_df.sort_values(['source','target','modification'], ascending=[True, True, False], inplace=True)\n",
    "edgelist_df.head()"
   ]
  },
  {
   "cell_type": "code",
   "execution_count": null,
   "metadata": {},
   "outputs": [],
   "source": [
    "# Remove duplicates and choose a representative edge\n",
    "edgelist_unique_df = edgelist_df.drop_duplicates(subset=['source', 'target'], keep='first')"
   ]
  },
  {
   "cell_type": "code",
   "execution_count": null,
   "metadata": {},
   "outputs": [],
   "source": [
    "edgelist_unique_df.shape"
   ]
  },
  {
   "cell_type": "markdown",
   "metadata": {},
   "source": [
    "# Write"
   ]
  },
  {
   "cell_type": "code",
   "execution_count": 4,
   "metadata": {},
   "outputs": [],
   "source": [
    "KEGGeractome = nx.from_pandas_edgelist(edgelist_unique_df, source='source', target='target', edge_attr=True)"
   ]
  },
  {
   "cell_type": "code",
   "execution_count": 6,
   "metadata": {},
   "outputs": [],
   "source": [
    "nx.write_gpickle(KEGGeractome, 'KEGGeractome_v1.1.gpickle')"
   ]
  }
 ],
 "metadata": {
  "kernelspec": {
   "display_name": "Python 3",
   "language": "python",
   "name": "python3"
  },
  "language_info": {
   "codemirror_mode": {
    "name": "ipython",
    "version": 3
   },
   "file_extension": ".py",
   "mimetype": "text/x-python",
   "name": "python",
   "nbconvert_exporter": "python",
   "pygments_lexer": "ipython3",
   "version": "3.6.5"
  }
 },
 "nbformat": 4,
 "nbformat_minor": 2
}
