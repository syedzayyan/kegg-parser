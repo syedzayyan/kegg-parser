{
 "cells": [
  {
   "cell_type": "code",
   "execution_count": 1,
   "metadata": {},
   "outputs": [],
   "source": [
    "import sys\n",
    "sys.path.insert(0, \"../src/\")\n",
    "from KEGGX import *"
   ]
  },
  {
   "cell_type": "code",
   "execution_count": 2,
   "metadata": {},
   "outputs": [],
   "source": [
    "from glob import glob\n",
    "\n",
    "paths = glob('../data/human_KGML/*')"
   ]
  },
  {
   "cell_type": "code",
   "execution_count": 3,
   "metadata": {},
   "outputs": [],
   "source": [
    "edgelist_dfs = []\n",
    "\n",
    "for path in paths: \n",
    "    \n",
    "    try: \n",
    "        pathway = KEGGX(path)\n",
    "        graph = pathway.output_KGML_as_directed_networkx()\n",
    "        edgelist_dfs.append(nx.to_pandas_edgelist(graph))\n",
    "    except: \n",
    "        pass\n",
    "\n",
    "edgelist_df = pd.concat(edgelist_dfs)    "
   ]
  },
  {
   "cell_type": "code",
   "execution_count": 4,
   "metadata": {},
   "outputs": [],
   "source": [
    "KEGGeractome = nx.from_pandas_edgelist(edgelist_df, source='source', target='target', edge_attr=True)"
   ]
  },
  {
   "cell_type": "code",
   "execution_count": 5,
   "metadata": {},
   "outputs": [
    {
     "name": "stdout",
     "output_type": "stream",
     "text": [
      "Name: \n",
      "Type: Graph\n",
      "Number of nodes: 2283\n",
      "Number of edges: 6004\n",
      "Average degree:   5.2597\n"
     ]
    }
   ],
   "source": [
    "print(nx.info(KEGGeractome))"
   ]
  },
  {
   "cell_type": "code",
   "execution_count": 6,
   "metadata": {},
   "outputs": [],
   "source": [
    "nx.write_gpickle(KEGGeractome, 'KEGGeractome_v1.0.gpickle')"
   ]
  },
  {
   "cell_type": "code",
   "execution_count": null,
   "metadata": {},
   "outputs": [],
   "source": []
  }
 ],
 "metadata": {
  "kernelspec": {
   "display_name": "Python 3",
   "language": "python",
   "name": "python3"
  },
  "language_info": {
   "codemirror_mode": {
    "name": "ipython",
    "version": 3
   },
   "file_extension": ".py",
   "mimetype": "text/x-python",
   "name": "python",
   "nbconvert_exporter": "python",
   "pygments_lexer": "ipython3",
   "version": "3.6.5"
  }
 },
 "nbformat": 4,
 "nbformat_minor": 2
}
