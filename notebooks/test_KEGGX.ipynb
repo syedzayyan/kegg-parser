{
 "cells": [
  {
   "cell_type": "code",
   "execution_count": 1,
   "metadata": {},
   "outputs": [],
   "source": [
    "import sys\n",
    "sys.path.insert(0, \"../src/\")\n",
    "from KEGGX import *"
   ]
  },
  {
   "cell_type": "code",
   "execution_count": 2,
   "metadata": {},
   "outputs": [],
   "source": [
    "pathway_id = 'hsa05130'\n",
    "\n",
    "pathway = KEGGX(\"../data/human_KGML/{}.xml\".format(pathway_id))"
   ]
  },
  {
   "cell_type": "code",
   "execution_count": 3,
   "metadata": {},
   "outputs": [],
   "source": [
    "graph = pathway.output_KGML_as_directed_networkx()"
   ]
  },
  {
   "cell_type": "code",
   "execution_count": 4,
   "metadata": {},
   "outputs": [
    {
     "data": {
      "text/plain": [
       "NodeView(('NCK1', 'CTNNB1', 'TUBB3', 'WAS', 'TUBA1B', 'ACTB', 'ARHGEF2', 'ARPC5', 'TLR4', 'RHOA', 'ROCK1', 'CD14', 'PRKCA', 'CDH1'))"
      ]
     },
     "execution_count": 4,
     "metadata": {},
     "output_type": "execute_result"
    }
   ],
   "source": [
    "graph.nodes()"
   ]
  },
  {
   "cell_type": "code",
   "execution_count": 5,
   "metadata": {},
   "outputs": [
    {
     "data": {
      "text/plain": [
       "AtlasView({'ARHGEF2': {'effect': 1, 'indirect': 1, 'modification': '', 'type': 'PPrel'}})"
      ]
     },
     "execution_count": 5,
     "metadata": {},
     "output_type": "execute_result"
    }
   ],
   "source": [
    "graph[\"TUBA1B\"]"
   ]
  },
  {
   "cell_type": "code",
   "execution_count": 6,
   "metadata": {},
   "outputs": [
    {
     "data": {
      "text/plain": [
       "AtlasView({'RHOA': {'effect': 1, 'indirect': 0, 'modification': '', 'type': 'PPrel'}})"
      ]
     },
     "execution_count": 6,
     "metadata": {},
     "output_type": "execute_result"
    }
   ],
   "source": [
    "graph[\"ARHGEF2\"]"
   ]
  },
  {
   "cell_type": "code",
   "execution_count": 6,
   "metadata": {},
   "outputs": [],
   "source": [
    "pathway.output_KGML_as_graphml('./test_output/{}_full.graphml'.format(pathway_id), visualize='full')\n",
    "pathway.output_KGML_as_graphml('./test_output/{}_standard.graphml'.format(pathway_id), visualize='biomolecules')\n",
    "graph2 = pathway.output_KGML_as_graphml('./test_output/{}_gene_only.graphml'.format(pathway_id), visualize='genes')"
   ]
  },
  {
   "cell_type": "code",
   "execution_count": null,
   "metadata": {},
   "outputs": [],
   "source": []
  }
 ],
 "metadata": {
  "kernelspec": {
   "display_name": "Python 3",
   "language": "python",
   "name": "python3"
  },
  "language_info": {
   "codemirror_mode": {
    "name": "ipython",
    "version": 3
   },
   "file_extension": ".py",
   "mimetype": "text/x-python",
   "name": "python",
   "nbconvert_exporter": "python",
   "pygments_lexer": "ipython3",
   "version": "3.6.5"
  }
 },
 "nbformat": 4,
 "nbformat_minor": 2
}
