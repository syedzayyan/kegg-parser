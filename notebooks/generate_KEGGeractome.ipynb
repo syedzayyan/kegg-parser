{
 "cells": [
  {
   "cell_type": "code",
   "execution_count": 1,
   "metadata": {},
   "outputs": [],
   "source": [
    "import sys\n",
    "\n",
    "sys.path.insert(0, \"../src/\")\n",
    "from KEGGX import *"
   ]
  },
  {
   "cell_type": "code",
   "execution_count": 2,
   "metadata": {},
   "outputs": [],
   "source": [
    "from glob import glob\n",
    "\n",
    "files = glob('../data/human_KGML/hsa*.xml')"
   ]
  },
  {
   "cell_type": "code",
   "execution_count": 3,
   "metadata": {},
   "outputs": [
    {
     "data": {
      "text/html": [
       "<div>\n",
       "<style scoped>\n",
       "    .dataframe tbody tr th:only-of-type {\n",
       "        vertical-align: middle;\n",
       "    }\n",
       "\n",
       "    .dataframe tbody tr th {\n",
       "        vertical-align: top;\n",
       "    }\n",
       "\n",
       "    .dataframe thead th {\n",
       "        text-align: right;\n",
       "    }\n",
       "</style>\n",
       "<table border=\"1\" class=\"dataframe\">\n",
       "  <thead>\n",
       "    <tr style=\"text-align: right;\">\n",
       "      <th></th>\n",
       "      <th>source</th>\n",
       "      <th>target</th>\n",
       "      <th>effect</th>\n",
       "      <th>indirect</th>\n",
       "      <th>modification</th>\n",
       "      <th>type</th>\n",
       "      <th>pathway</th>\n",
       "    </tr>\n",
       "  </thead>\n",
       "  <tbody>\n",
       "    <tr>\n",
       "      <th>40</th>\n",
       "      <td>100506248</td>\n",
       "      <td>CREBBP</td>\n",
       "      <td>2.0</td>\n",
       "      <td>0.0</td>\n",
       "      <td></td>\n",
       "      <td>PPrel</td>\n",
       "      <td>path:hsa05169</td>\n",
       "    </tr>\n",
       "    <tr>\n",
       "      <th>97</th>\n",
       "      <td>101060521</td>\n",
       "      <td>ADCY1</td>\n",
       "      <td>1.0</td>\n",
       "      <td>0.0</td>\n",
       "      <td></td>\n",
       "      <td>inferred_rxn</td>\n",
       "      <td>path:hsa00230</td>\n",
       "    </tr>\n",
       "    <tr>\n",
       "      <th>96</th>\n",
       "      <td>101060521</td>\n",
       "      <td>ENPP1</td>\n",
       "      <td>1.0</td>\n",
       "      <td>0.0</td>\n",
       "      <td></td>\n",
       "      <td>inferred_rxn</td>\n",
       "      <td>path:hsa00230</td>\n",
       "    </tr>\n",
       "    <tr>\n",
       "      <th>93</th>\n",
       "      <td>101060521</td>\n",
       "      <td>ENTPD2</td>\n",
       "      <td>1.0</td>\n",
       "      <td>0.0</td>\n",
       "      <td></td>\n",
       "      <td>inferred_rxn</td>\n",
       "      <td>path:hsa00230</td>\n",
       "    </tr>\n",
       "    <tr>\n",
       "      <th>90</th>\n",
       "      <td>101060521</td>\n",
       "      <td>ENTPD8</td>\n",
       "      <td>1.0</td>\n",
       "      <td>0.0</td>\n",
       "      <td></td>\n",
       "      <td>inferred_rxn</td>\n",
       "      <td>path:hsa00230</td>\n",
       "    </tr>\n",
       "  </tbody>\n",
       "</table>\n",
       "</div>"
      ],
      "text/plain": [
       "       source  target  effect  indirect modification          type  \\\n",
       "40  100506248  CREBBP     2.0       0.0                      PPrel   \n",
       "97  101060521   ADCY1     1.0       0.0               inferred_rxn   \n",
       "96  101060521   ENPP1     1.0       0.0               inferred_rxn   \n",
       "93  101060521  ENTPD2     1.0       0.0               inferred_rxn   \n",
       "90  101060521  ENTPD8     1.0       0.0               inferred_rxn   \n",
       "\n",
       "          pathway  \n",
       "40  path:hsa05169  \n",
       "97  path:hsa00230  \n",
       "96  path:hsa00230  \n",
       "93  path:hsa00230  \n",
       "90  path:hsa00230  "
      ]
     },
     "execution_count": 3,
     "metadata": {},
     "output_type": "execute_result"
    }
   ],
   "source": [
    "# For each KGML file, get directed edges as dataframe, the concatenate\n",
    "edgelist_dfs = [KEGGX(file).get_directed_edges_from_KGML(genes_only=True) for file in files]\n",
    "edgelist_df  = pd.concat(edgelist_dfs)\n",
    "edgelist_df  = edgelist_df[['source', 'target', 'effect', 'indirect', 'modification', 'type', 'pathway']]\n",
    "edgelist_df.sort_values(['source','target','modification'], ascending=[True, True, False], inplace=True)\n",
    "edgelist_df.head()"
   ]
  },
  {
   "cell_type": "code",
   "execution_count": 4,
   "metadata": {},
   "outputs": [],
   "source": [
    "# Remove duplicates and choose a representative edge\n",
    "edgelist_unique_df = edgelist_df.drop_duplicates(subset=['source', 'target'], keep='first')"
   ]
  },
  {
   "cell_type": "code",
   "execution_count": 5,
   "metadata": {},
   "outputs": [
    {
     "data": {
      "text/plain": [
       "(10693, 7)"
      ]
     },
     "execution_count": 5,
     "metadata": {},
     "output_type": "execute_result"
    }
   ],
   "source": [
    "edgelist_unique_df.shape"
   ]
  },
  {
   "cell_type": "markdown",
   "metadata": {},
   "source": [
    "# Write"
   ]
  },
  {
   "cell_type": "code",
   "execution_count": 9,
   "metadata": {},
   "outputs": [],
   "source": [
    "KEGGeractome = nx.from_pandas_edgelist(edgelist_unique_df, edge_attr=True, create_using=nx.DiGraph())"
   ]
  },
  {
   "cell_type": "code",
   "execution_count": 10,
   "metadata": {},
   "outputs": [],
   "source": [
    "nx.write_gpickle(KEGGeractome, '../output/KEGGeractome_v1.1.gpickle')"
   ]
  },
  {
   "cell_type": "code",
   "execution_count": 11,
   "metadata": {},
   "outputs": [
    {
     "name": "stdout",
     "output_type": "stream",
     "text": [
      "Name: \n",
      "Type: DiGraph\n",
      "Number of nodes: 3218\n",
      "Number of edges: 10693\n",
      "Average in degree:   3.3229\n",
      "Average out degree:   3.3229\n"
     ]
    }
   ],
   "source": [
    "print(nx.info(KEGGeractome))"
   ]
  },
  {
   "cell_type": "code",
   "execution_count": null,
   "metadata": {},
   "outputs": [],
   "source": []
  }
 ],
 "metadata": {
  "kernelspec": {
   "display_name": "Python 3",
   "language": "python",
   "name": "python3"
  },
  "language_info": {
   "codemirror_mode": {
    "name": "ipython",
    "version": 3
   },
   "file_extension": ".py",
   "mimetype": "text/x-python",
   "name": "python",
   "nbconvert_exporter": "python",
   "pygments_lexer": "ipython3",
   "version": "3.6.5"
  }
 },
 "nbformat": 4,
 "nbformat_minor": 2
}
